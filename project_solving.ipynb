{
 "cells": [
  {
   "cell_type": "markdown",
   "metadata": {},
   "source": [
    "# Zuber. "
   ]
  },
  {
   "cell_type": "markdown",
   "metadata": {},
   "source": [
    "## Introduction\n",
    "\n",
    "This project aims to analyze data related to transportation services in the city of Chicago, using three main datasets. The goal is to obtain useful information for Zuber, a new ride-hailing company in the city. Through a statistical and visual approach, the project seeks to explore patterns related to the number of trips made by taxi companies, the most popular destinations within the city, and weather conditions that may influence trip duration. This analysis will not only provide descriptive information but also validate specific hypotheses to better understand transportation behavior in different scenarios."
   ]
  },
  {
   "cell_type": "markdown",
   "metadata": {},
   "source": [
    "## Goals.\n",
    "**Explore and Clean the Data:** <br><br>\n",
    "\n",
    "Import and examine the three provided data sets.<br>\n",
    "Ensure the data types are correct and ready for analysis.<br>\n",
    "\n",
    "**Descriptive Analysis:**<br><br>\n",
    "\n",
    "Identify the taxi companies with the highest number of trips during November 15 and 16, 2017.<br>\n",
    "Determine the 10 most popular neighborhoods by trip completions in November 2017.<br>\n",
    "\n",
    "**Data Visualization:**<br><br>\n",
    "\n",
    "Create clear and meaningful graphs that represent data related to:<br>\n",
    "Taxi companies and their number of trips.<br>\n",
    "Top 10 neighborhoods by trip completions.<br>\n",
    "\n",
    "**Hypothesis Testing:**<br><br>\n",
    "\n",
    "Evaluate whether the average trip duration from the Loop to O'Hare International Airport Change rainy Saturdays using statistical methods.<br>\n",
    "Establish the null and alternative hypotheses, determine the level of significance, and justify the methods used.<br>\n",
    "\n",
    "**Conclusions:**<br><br>\n",
    "Base the results of the analysis on useful observations about transportation in Chicago.\n"
   ]
  },
  {
   "cell_type": "markdown",
   "metadata": {},
   "source": [
    "## Development"
   ]
  },
  {
   "cell_type": "markdown",
   "metadata": {},
   "source": [
    "### Import libraries "
   ]
  },
  {
   "cell_type": "code",
   "execution_count": 1,
   "metadata": {},
   "outputs": [],
   "source": [
    "import pandas as pd\n",
    "from scipy import stats as st\n",
    "from matplotlib import pyplot as plt\n"
   ]
  },
  {
   "cell_type": "markdown",
   "metadata": {},
   "source": [
    "### Data load"
   ]
  },
  {
   "cell_type": "code",
   "execution_count": 2,
   "metadata": {},
   "outputs": [],
   "source": [
    "company= pd.read_csv('/Users/pauli/Documents/Data/zuber/project_sql_result_01.csv')\n",
    "location= pd.read_csv ('/Users/pauli/Documents/Data/zuber/project_sql_result_04.csv')"
   ]
  },
  {
   "cell_type": "code",
   "execution_count": 3,
   "metadata": {},
   "outputs": [
    {
     "name": "stdout",
     "output_type": "stream",
     "text": [
      "<class 'pandas.core.frame.DataFrame'>\n",
      "RangeIndex: 64 entries, 0 to 63\n",
      "Data columns (total 2 columns):\n",
      " #   Column        Non-Null Count  Dtype \n",
      "---  ------        --------------  ----- \n",
      " 0   company_name  64 non-null     object\n",
      " 1   trips_amount  64 non-null     int64 \n",
      "dtypes: int64(1), object(1)\n",
      "memory usage: 1.1+ KB\n"
     ]
    },
    {
     "data": {
      "text/plain": [
       "0"
      ]
     },
     "execution_count": 3,
     "metadata": {},
     "output_type": "execute_result"
    }
   ],
   "source": [
    "company.info()\n",
    "\n",
    "company.duplicated().sum()"
   ]
  },
  {
   "cell_type": "markdown",
   "metadata": {},
   "source": [
    "The data types for the company table are correct: the company name is an object, and the number of trips is an integer. We note that there are no empty values. There are no duplicate values."
   ]
  },
  {
   "cell_type": "code",
   "execution_count": 4,
   "metadata": {},
   "outputs": [
    {
     "name": "stdout",
     "output_type": "stream",
     "text": [
      "<class 'pandas.core.frame.DataFrame'>\n",
      "RangeIndex: 94 entries, 0 to 93\n",
      "Data columns (total 2 columns):\n",
      " #   Column                 Non-Null Count  Dtype  \n",
      "---  ------                 --------------  -----  \n",
      " 0   dropoff_location_name  94 non-null     object \n",
      " 1   average_trips          94 non-null     float64\n",
      "dtypes: float64(1), object(1)\n",
      "memory usage: 1.6+ KB\n"
     ]
    },
    {
     "data": {
      "text/plain": [
       "0"
      ]
     },
     "execution_count": 4,
     "metadata": {},
     "output_type": "execute_result"
    }
   ],
   "source": [
    "\n",
    "location.info()\n",
    "\n",
    "location.duplicated().sum()"
   ]
  },
  {
   "cell_type": "markdown",
   "metadata": {},
   "source": [
    "The data type is correct; however, since the number of trips is an average, this number will be converted to integers to facilitate data analysis. There are no empty values. There are no duplicate values."
   ]
  },
  {
   "cell_type": "markdown",
   "metadata": {},
   "source": [
    "### Data Improvement"
   ]
  },
  {
   "cell_type": "code",
   "execution_count": 5,
   "metadata": {},
   "outputs": [],
   "source": [
    "# Convert the average number of trips to whole numbers by rounding to the nearest integer and converting the data type to integer.\n",
    "\n",
    "location['average_trips']= round(location['average_trips']).astype(int)"
   ]
  },
  {
   "cell_type": "markdown",
   "metadata": {},
   "source": [
    "### Identify the top 10 neighborhoods in terms of tour completion"
   ]
  },
  {
   "cell_type": "code",
   "execution_count": 6,
   "metadata": {},
   "outputs": [
    {
     "data": {
      "text/html": [
       "<div>\n",
       "<style scoped>\n",
       "    .dataframe tbody tr th:only-of-type {\n",
       "        vertical-align: middle;\n",
       "    }\n",
       "\n",
       "    .dataframe tbody tr th {\n",
       "        vertical-align: top;\n",
       "    }\n",
       "\n",
       "    .dataframe thead th {\n",
       "        text-align: right;\n",
       "    }\n",
       "</style>\n",
       "<table border=\"1\" class=\"dataframe\">\n",
       "  <thead>\n",
       "    <tr style=\"text-align: right;\">\n",
       "      <th></th>\n",
       "      <th>dropoff_location_name</th>\n",
       "      <th>average_trips</th>\n",
       "    </tr>\n",
       "  </thead>\n",
       "  <tbody>\n",
       "    <tr>\n",
       "      <th>0</th>\n",
       "      <td>Loop</td>\n",
       "      <td>10727</td>\n",
       "    </tr>\n",
       "    <tr>\n",
       "      <th>1</th>\n",
       "      <td>River North</td>\n",
       "      <td>9524</td>\n",
       "    </tr>\n",
       "    <tr>\n",
       "      <th>2</th>\n",
       "      <td>Streeterville</td>\n",
       "      <td>6665</td>\n",
       "    </tr>\n",
       "    <tr>\n",
       "      <th>3</th>\n",
       "      <td>West Loop</td>\n",
       "      <td>5164</td>\n",
       "    </tr>\n",
       "    <tr>\n",
       "      <th>4</th>\n",
       "      <td>O'Hare</td>\n",
       "      <td>2547</td>\n",
       "    </tr>\n",
       "    <tr>\n",
       "      <th>5</th>\n",
       "      <td>Lake View</td>\n",
       "      <td>2421</td>\n",
       "    </tr>\n",
       "    <tr>\n",
       "      <th>6</th>\n",
       "      <td>Grant Park</td>\n",
       "      <td>2069</td>\n",
       "    </tr>\n",
       "    <tr>\n",
       "      <th>7</th>\n",
       "      <td>Museum Campus</td>\n",
       "      <td>1510</td>\n",
       "    </tr>\n",
       "    <tr>\n",
       "      <th>8</th>\n",
       "      <td>Gold Coast</td>\n",
       "      <td>1364</td>\n",
       "    </tr>\n",
       "    <tr>\n",
       "      <th>9</th>\n",
       "      <td>Sheffield &amp; DePaul</td>\n",
       "      <td>1260</td>\n",
       "    </tr>\n",
       "  </tbody>\n",
       "</table>\n",
       "</div>"
      ],
      "text/plain": [
       "  dropoff_location_name  average_trips\n",
       "0                  Loop          10727\n",
       "1           River North           9524\n",
       "2         Streeterville           6665\n",
       "3             West Loop           5164\n",
       "4                O'Hare           2547\n",
       "5             Lake View           2421\n",
       "6            Grant Park           2069\n",
       "7         Museum Campus           1510\n",
       "8            Gold Coast           1364\n",
       "9    Sheffield & DePaul           1260"
      ]
     },
     "execution_count": 6,
     "metadata": {},
     "output_type": "execute_result"
    }
   ],
   "source": [
    "top_loc= location.sort_values(by='average_trips', ascending=False).head(10)\n",
    "top_loc"
   ]
  },
  {
   "cell_type": "code",
   "execution_count": 7,
   "metadata": {},
   "outputs": [
    {
     "data": {
      "text/plain": [
       "<Axes: title={'center': 'Top Ten Neighborhoods with Completed Trips'}, xlabel='Neighborhood Name', ylabel='Total Average Dropoffs'>"
      ]
     },
     "execution_count": 7,
     "metadata": {},
     "output_type": "execute_result"
    },
    {
     "data": {
      "image/png": "[encoded data removed]",
      "text/plain": [
       "<Figure size 640x480 with 1 Axes>"
      ]
     },
     "metadata": {},
     "output_type": "display_data"
    }
   ],
   "source": [
    "top_loc.plot(kind='bar',                  \n",
    "                   x='dropoff_location_name',\n",
    "                   y='average_trips',\n",
    "                   title='Top Ten Neighborhoods with Completed Trips',\n",
    "                   xlabel='Neighborhood Name',\n",
    "                   ylabel='Total Average Dropoffs')"
   ]
  },
  {
   "cell_type": "markdown",
   "metadata": {},
   "source": [
    "The neighborhoods with the most completed trips are the Loop and River North, with little difference between them, around 10,000 trips on average. Followed by Streetville, which also reaches almost 6,000 trips. The rest of the neighborhoods included in this top 10 have relatively similar figures, around 2,000 trips or slightly less."
   ]
  },
  {
   "cell_type": "markdown",
   "metadata": {},
   "source": [
    "### Taxi Companies and Number of Trips"
   ]
  },
  {
   "cell_type": "markdown",
   "metadata": {},
   "source": [
    "To create the graph, we'll take the top 10 companies in terms of number of trips."
   ]
  },
  {
   "cell_type": "code",
   "execution_count": 8,
   "metadata": {},
   "outputs": [
    {
     "data": {
      "text/html": [
       "<div>\n",
       "<style scoped>\n",
       "    .dataframe tbody tr th:only-of-type {\n",
       "        vertical-align: middle;\n",
       "    }\n",
       "\n",
       "    .dataframe tbody tr th {\n",
       "        vertical-align: top;\n",
       "    }\n",
       "\n",
       "    .dataframe thead th {\n",
       "        text-align: right;\n",
       "    }\n",
       "</style>\n",
       "<table border=\"1\" class=\"dataframe\">\n",
       "  <thead>\n",
       "    <tr style=\"text-align: right;\">\n",
       "      <th></th>\n",
       "      <th>company_name</th>\n",
       "      <th>trips_amount</th>\n",
       "    </tr>\n",
       "  </thead>\n",
       "  <tbody>\n",
       "    <tr>\n",
       "      <th>0</th>\n",
       "      <td>Flash Cab</td>\n",
       "      <td>19558</td>\n",
       "    </tr>\n",
       "    <tr>\n",
       "      <th>1</th>\n",
       "      <td>Taxi Affiliation Services</td>\n",
       "      <td>11422</td>\n",
       "    </tr>\n",
       "    <tr>\n",
       "      <th>2</th>\n",
       "      <td>Medallion Leasin</td>\n",
       "      <td>10367</td>\n",
       "    </tr>\n",
       "    <tr>\n",
       "      <th>3</th>\n",
       "      <td>Yellow Cab</td>\n",
       "      <td>9888</td>\n",
       "    </tr>\n",
       "    <tr>\n",
       "      <th>4</th>\n",
       "      <td>Taxi Affiliation Service Yellow</td>\n",
       "      <td>9299</td>\n",
       "    </tr>\n",
       "  </tbody>\n",
       "</table>\n",
       "</div>"
      ],
      "text/plain": [
       "                      company_name  trips_amount\n",
       "0                        Flash Cab         19558\n",
       "1        Taxi Affiliation Services         11422\n",
       "2                 Medallion Leasin         10367\n",
       "3                       Yellow Cab          9888\n",
       "4  Taxi Affiliation Service Yellow          9299"
      ]
     },
     "execution_count": 8,
     "metadata": {},
     "output_type": "execute_result"
    }
   ],
   "source": [
    "top_trips= company.sort_values(by='trips_amount', ascending=False).head(10)\n",
    "\n",
    "\n",
    "top_trips.head()"
   ]
  },
  {
   "cell_type": "code",
   "execution_count": 9,
   "metadata": {},
   "outputs": [
    {
     "data": {
      "text/plain": [
       "<Axes: title={'center': 'Number of trips per Company.'}, xlabel='Company Name', ylabel='Number of Trips'>"
      ]
     },
     "execution_count": 9,
     "metadata": {},
     "output_type": "execute_result"
    },
    {
     "data": {
      "image/png": "[encoded data removed]",
      "text/plain": [
       "<Figure size 1500x1000 with 1 Axes>"
      ]
     },
     "metadata": {},
     "output_type": "display_data"
    }
   ],
   "source": [
    "top_trips.plot(kind='bar',                  \n",
    "                   x='company_name',\n",
    "                   y='trips_amount',\n",
    "                   title='Number of trips per Company.',\n",
    "                   xlabel='Company Name',\n",
    "                   ylabel='Number of Trips',\n",
    "                   figsize=[15, 10])"
   ]
  },
  {
   "cell_type": "markdown",
   "metadata": {},
   "source": [
    "Flash Cab stands out significantly as the leader in the number of trips taken, with a value close to 20,000 trips.<br>There is a noticeable drop in the number of trips between the top companies (such as Taxi Affiliation Services and Medallion Leasing) and the smaller companies.<br><br>A significant number of companies appear to take fewer than 5,000 trips in total, indicating that many operate in a smaller niche or have less operational capacity."
   ]
  },
  {
   "cell_type": "markdown",
   "metadata": {},
   "source": [
    "### Travel data from the Loop to O'Hare International Airport."
   ]
  },
  {
   "cell_type": "code",
   "execution_count": 10,
   "metadata": {},
   "outputs": [
    {
     "name": "stdout",
     "output_type": "stream",
     "text": [
      "<class 'pandas.core.frame.DataFrame'>\n",
      "RangeIndex: 1068 entries, 0 to 1067\n",
      "Data columns (total 3 columns):\n",
      " #   Column              Non-Null Count  Dtype  \n",
      "---  ------              --------------  -----  \n",
      " 0   start_ts            1068 non-null   object \n",
      " 1   weather_conditions  1068 non-null   object \n",
      " 2   duration_seconds    1068 non-null   float64\n",
      "dtypes: float64(1), object(2)\n",
      "memory usage: 25.2+ KB\n"
     ]
    },
    {
     "data": {
      "text/html": [
       "<div>\n",
       "<style scoped>\n",
       "    .dataframe tbody tr th:only-of-type {\n",
       "        vertical-align: middle;\n",
       "    }\n",
       "\n",
       "    .dataframe tbody tr th {\n",
       "        vertical-align: top;\n",
       "    }\n",
       "\n",
       "    .dataframe thead th {\n",
       "        text-align: right;\n",
       "    }\n",
       "</style>\n",
       "<table border=\"1\" class=\"dataframe\">\n",
       "  <thead>\n",
       "    <tr style=\"text-align: right;\">\n",
       "      <th></th>\n",
       "      <th>start_ts</th>\n",
       "      <th>weather_conditions</th>\n",
       "      <th>duration_seconds</th>\n",
       "    </tr>\n",
       "  </thead>\n",
       "  <tbody>\n",
       "    <tr>\n",
       "      <th>0</th>\n",
       "      <td>2017-11-25 16:00:00</td>\n",
       "      <td>Good</td>\n",
       "      <td>2410.0</td>\n",
       "    </tr>\n",
       "    <tr>\n",
       "      <th>1</th>\n",
       "      <td>2017-11-25 14:00:00</td>\n",
       "      <td>Good</td>\n",
       "      <td>1920.0</td>\n",
       "    </tr>\n",
       "    <tr>\n",
       "      <th>2</th>\n",
       "      <td>2017-11-25 12:00:00</td>\n",
       "      <td>Good</td>\n",
       "      <td>1543.0</td>\n",
       "    </tr>\n",
       "    <tr>\n",
       "      <th>3</th>\n",
       "      <td>2017-11-04 10:00:00</td>\n",
       "      <td>Good</td>\n",
       "      <td>2512.0</td>\n",
       "    </tr>\n",
       "    <tr>\n",
       "      <th>4</th>\n",
       "      <td>2017-11-11 07:00:00</td>\n",
       "      <td>Good</td>\n",
       "      <td>1440.0</td>\n",
       "    </tr>\n",
       "  </tbody>\n",
       "</table>\n",
       "</div>"
      ],
      "text/plain": [
       "              start_ts weather_conditions  duration_seconds\n",
       "0  2017-11-25 16:00:00               Good            2410.0\n",
       "1  2017-11-25 14:00:00               Good            1920.0\n",
       "2  2017-11-25 12:00:00               Good            1543.0\n",
       "3  2017-11-04 10:00:00               Good            2512.0\n",
       "4  2017-11-11 07:00:00               Good            1440.0"
      ]
     },
     "execution_count": 10,
     "metadata": {},
     "output_type": "execute_result"
    }
   ],
   "source": [
    "# Data import\n",
    "airport= pd.read_csv ('/Users/pauli/Documents/Data/zuber/project_sql_result_07.csv')\n",
    "\n",
    "airport.info()\n",
    "airport.head()"
   ]
  },
  {
   "cell_type": "code",
   "execution_count": 11,
   "metadata": {},
   "outputs": [],
   "source": [
    "# Convert the data type of start_ts to date\n",
    "\n",
    "airport['start_ts'] = pd.to_datetime(airport['start_ts'])\n",
    "\n",
    "#Create a column to identify the day of the week\n",
    "\n",
    "airport['day_of_week'] = airport['start_ts'].dt.day_name()\n"
   ]
  },
  {
   "cell_type": "code",
   "execution_count": 12,
   "metadata": {},
   "outputs": [
    {
     "data": {
      "text/html": [
       "<div>\n",
       "<style scoped>\n",
       "    .dataframe tbody tr th:only-of-type {\n",
       "        vertical-align: middle;\n",
       "    }\n",
       "\n",
       "    .dataframe tbody tr th {\n",
       "        vertical-align: top;\n",
       "    }\n",
       "\n",
       "    .dataframe thead th {\n",
       "        text-align: right;\n",
       "    }\n",
       "</style>\n",
       "<table border=\"1\" class=\"dataframe\">\n",
       "  <thead>\n",
       "    <tr style=\"text-align: right;\">\n",
       "      <th></th>\n",
       "      <th>start_ts</th>\n",
       "      <th>weather_conditions</th>\n",
       "      <th>duration_seconds</th>\n",
       "      <th>day_of_week</th>\n",
       "    </tr>\n",
       "  </thead>\n",
       "  <tbody>\n",
       "    <tr>\n",
       "      <th>0</th>\n",
       "      <td>2017-11-25 16:00:00</td>\n",
       "      <td>Good</td>\n",
       "      <td>2410.0</td>\n",
       "      <td>Saturday</td>\n",
       "    </tr>\n",
       "    <tr>\n",
       "      <th>1</th>\n",
       "      <td>2017-11-25 14:00:00</td>\n",
       "      <td>Good</td>\n",
       "      <td>1920.0</td>\n",
       "      <td>Saturday</td>\n",
       "    </tr>\n",
       "    <tr>\n",
       "      <th>2</th>\n",
       "      <td>2017-11-25 12:00:00</td>\n",
       "      <td>Good</td>\n",
       "      <td>1543.0</td>\n",
       "      <td>Saturday</td>\n",
       "    </tr>\n",
       "    <tr>\n",
       "      <th>3</th>\n",
       "      <td>2017-11-04 10:00:00</td>\n",
       "      <td>Good</td>\n",
       "      <td>2512.0</td>\n",
       "      <td>Saturday</td>\n",
       "    </tr>\n",
       "    <tr>\n",
       "      <th>4</th>\n",
       "      <td>2017-11-11 07:00:00</td>\n",
       "      <td>Good</td>\n",
       "      <td>1440.0</td>\n",
       "      <td>Saturday</td>\n",
       "    </tr>\n",
       "  </tbody>\n",
       "</table>\n",
       "</div>"
      ],
      "text/plain": [
       "             start_ts weather_conditions  duration_seconds day_of_week\n",
       "0 2017-11-25 16:00:00               Good            2410.0    Saturday\n",
       "1 2017-11-25 14:00:00               Good            1920.0    Saturday\n",
       "2 2017-11-25 12:00:00               Good            1543.0    Saturday\n",
       "3 2017-11-04 10:00:00               Good            2512.0    Saturday\n",
       "4 2017-11-11 07:00:00               Good            1440.0    Saturday"
      ]
     },
     "execution_count": 12,
     "metadata": {},
     "output_type": "execute_result"
    }
   ],
   "source": [
    "airport.head()"
   ]
  },
  {
   "cell_type": "code",
   "execution_count": 13,
   "metadata": {},
   "outputs": [],
   "source": [
    "#Filter to Saturdays:\n",
    "\n",
    "saturday= airport[(airport['day_of_week'] == 'Saturday')]\n",
    "\n",
    "# Filter by rainy Saturdays:\n",
    "rain_sat= saturday[saturday['weather_conditions']== 'Bad']['duration_seconds']\n",
    "\n",
    "#Filter by sunny days:\n",
    "\n",
    "sun_sat= saturday[saturday['weather_conditions']== 'Good']['duration_seconds']\n"
   ]
  },
  {
   "cell_type": "code",
   "execution_count": 14,
   "metadata": {},
   "outputs": [
    {
     "data": {
      "text/plain": [
       "count     180.000000\n",
       "mean     2427.205556\n",
       "std       721.314138\n",
       "min       480.000000\n",
       "25%      1962.000000\n",
       "50%      2540.000000\n",
       "75%      2928.000000\n",
       "max      4980.000000\n",
       "Name: duration_seconds, dtype: float64"
      ]
     },
     "execution_count": 14,
     "metadata": {},
     "output_type": "execute_result"
    }
   ],
   "source": [
    "# Statistical analysis:\n",
    "\n",
    "rain_sat.describe()\n"
   ]
  },
  {
   "cell_type": "code",
   "execution_count": 15,
   "metadata": {},
   "outputs": [
    {
     "data": {
      "text/plain": [
       "count     888.000000\n",
       "mean     1999.675676\n",
       "std       759.198268\n",
       "min         0.000000\n",
       "25%      1389.750000\n",
       "50%      1800.000000\n",
       "75%      2460.000000\n",
       "max      7440.000000\n",
       "Name: duration_seconds, dtype: float64"
      ]
     },
     "execution_count": 15,
     "metadata": {},
     "output_type": "execute_result"
    }
   ],
   "source": [
    "sun_sat.describe()"
   ]
  },
  {
   "cell_type": "markdown",
   "metadata": {},
   "source": [
    "The number of trips on rainy Saturdays decreases significantly from 888 on sunny days to 180.\n",
    "\n",
    "The average trip duration is approximately 20% longer on rainy days (2427.21 seconds) compared to sunny days (1999.68 seconds). This suggests that rainy weather can impact travel times, likely due to slower traffic conditions.\n",
    "\n",
    "All percentiles (25%, 50%, and 75%) are higher on rainy days than on sunny days, reinforcing the hypothesis that trips tend to take longer in the rain."
   ]
  },
  {
   "cell_type": "code",
   "execution_count": 16,
   "metadata": {},
   "outputs": [
    {
     "data": {
      "image/png": "[encoded data removed]",
      "text/plain": [
       "<Figure size 1200x600 with 1 Axes>"
      ]
     },
     "metadata": {},
     "output_type": "display_data"
    }
   ],
   "source": [
    "# Show the comparative distribution of both groups\n",
    "\n",
    "plt.figure(figsize=(12, 6))\n",
    "plt.hist(rain_sat, bins=30, alpha=0.5, label='Rainy Saturdays')\n",
    "plt.hist(sun_sat, bins=30, alpha=0.5, label='Sunny Saturdays')\n",
    "plt.title('Distribution of rainy Saturdays vs. sunny Saturdays')\n",
    "plt.xlabel('Duration (seconds)')\n",
    "plt.ylabel('Frequency')\n",
    "plt.legend()\n",
    "plt.show()"
   ]
  },
  {
   "cell_type": "markdown",
   "metadata": {},
   "source": [
    "The orange bar (sunny Saturdays) dominates the distribution, especially between 1000 and 2000 seconds, indicating that trips on sunny days are more frequent at this duration. <br>\n",
    "The curve for rainy Saturdays (blue bar) appears to shift slightly to the right compared to that for sunny Saturdays. This suggests that, on average, trips on rainy Saturdays tend to last longer.\n",
    "<br>For long durations (more than 3000 seconds), the blue bar still has a significant presence compared to the orange one, reinforcing the previous idea."
   ]
  },
  {
   "cell_type": "markdown",
   "metadata": {},
   "source": [
    "**Remove outliers**"
   ]
  },
  {
   "cell_type": "code",
   "execution_count": 17,
   "metadata": {},
   "outputs": [],
   "source": [
    "# Calculate quartiles and IQR\n",
    "Q1 = rain_sat.quantile(0.25)\n",
    "Q3 = sun_sat.quantile(0.75)\n",
    "IQR = Q3 - Q1\n",
    "\n",
    "# Define limits to detect outliers\n",
    "limite_inferior = Q1 - 1.5 * IQR\n",
    "limite_superior = Q3 + 1.5 * IQR\n",
    "\n",
    "# Filter data without outliers\n",
    "new_rain = rain_sat[(rain_sat>= limite_inferior) & (rain_sat<=limite_superior)]\n",
    "new_sun= sun_sat[(sun_sat>= limite_inferior) & (sun_sat<= limite_superior)]\n"
   ]
  },
  {
   "cell_type": "code",
   "execution_count": 18,
   "metadata": {},
   "outputs": [
    {
     "data": {
      "image/png": "[encoded data removed]",
      "text/plain": [
       "<Figure size 1200x600 with 1 Axes>"
      ]
     },
     "metadata": {},
     "output_type": "display_data"
    }
   ],
   "source": [
    "plt.figure(figsize=(12, 6))\n",
    "plt.hist(new_rain, bins=30, alpha=0.5, label='Rainy Saturdays')\n",
    "plt.hist(new_sun, bins=30, alpha=0.5, label='Sunny Saturdays')\n",
    "plt.title('Distribution of rainy Saturdays vs. sunny Saturdays')\n",
    "plt.xlabel('Duration (seconds)')\n",
    "plt.ylabel('Frequency')\n",
    "plt.legend()\n",
    "plt.show()"
   ]
  },
  {
   "cell_type": "markdown",
   "metadata": {},
   "source": [
    "Now, the values ​​are restricted to a more manageable range (approximately 1250 to 3250 seconds). This allows for a clearer analysis of the differences. Without the outliers, the comparison focuses on the central range, showing that sunny days still have more trips than rainy ones, although trips on rainy days have significant frequencies in some ranges."
   ]
  },
  {
   "cell_type": "markdown",
   "metadata": {},
   "source": [
    "### Hypothesis testing"
   ]
  },
  {
   "cell_type": "markdown",
   "metadata": {},
   "source": [
    "**Null Hypothesis**: The average trip length from the Loop to O'Hare International Airport is the same on rainy Saturdays.<br>\n",
    "**Alternative Hypothesis**: The average trip length from the Loop to O'Hare International Airport changes on rainy Saturdays.<br>\n",
    "**Significance Level**: 5%"
   ]
  },
  {
   "cell_type": "code",
   "execution_count": 19,
   "metadata": {},
   "outputs": [
    {
     "name": "stdout",
     "output_type": "stream",
     "text": [
      "Levene's test for equality of variances:\n",
      "p-value: 0.8742629059539857\n"
     ]
    }
   ],
   "source": [
    "# Levene Test: \n",
    "\n",
    "p_levene = st.levene(new_rain, new_sun)\n",
    "print(\"Levene's test for equality of variances:\")\n",
    "print(\"p-value:\", p_levene.pvalue)\n"
   ]
  },
  {
   "cell_type": "markdown",
   "metadata": {},
   "source": [
    "Levene's test is performed, which helps us determine whether the variances are equal or different. This is important because the test we are going to perform to test our hypothesis assumes that both variables have the same variance. If they do not, we must inform the tester so that the calculations can be performed correctly.\n",
    "\n",
    "In this case, the p value is greater than 0.05, which means that the variances are not significantly different and the assumption of homogeneity of variance is met."
   ]
  },
  {
   "cell_type": "code",
   "execution_count": 20,
   "metadata": {},
   "outputs": [
    {
     "name": "stdout",
     "output_type": "stream",
     "text": [
      "p-value t test: 1.4809295191339424e-14\n",
      "The difference in average durations between rainy and non-rainy Saturdays is statistically significant.\n"
     ]
    }
   ],
   "source": [
    "# T-test :\n",
    "alpha= 0.05\n",
    "t_test= st.ttest_ind(new_rain, new_sun)\n",
    "\n",
    "print (\"p-value t test:\", t_test.pvalue)\n",
    "\n",
    "if t_test.pvalue < alpha:\n",
    "    print(\"The difference in average durations between rainy and non-rainy Saturdays is statistically significant.\")\n",
    "else:\n",
    "    print(\"There is insufficient evidence to state that the average durations are significantly different.\")"
   ]
  },
  {
   "cell_type": "markdown",
   "metadata": {},
   "source": [
    "## Conclusion\n",
    "\n",
    "Flash Cab, Taxi Affiliation Services, and Medallion Leasing clearly lead the market in terms of the number of trips completed, with Flash Cab being their main competitor. To better understand their success, it would be helpful to analyze their specific marketing or pricing strategies, if available, and how Zuber can compete advantageously alongside them. <br> Neighborhoods such as the Loop and River North stand out for having the highest number of trip completions. This could reflect their status as shopping centers, tourist hubs, or densely populated residential areas. Zuber could consider allocating more vehicles to these neighborhoods, especially during peak hours or special events. <br> The hypothesis analysis confirmed that there is a significant difference in average trip durations between rainy and good-weather Saturdays. Specifically, trips tend to take longer on rainy days. Given this finding, Zuber could implement measures such as informing customers about potential delays, adjusting fares based on weather conditions, and planning alternative routes to reduce travel times on days with bad weather.\n",
    "\n"
   ]
  }
 ],
 "metadata": {
  "ExecuteTimeLog": [
   {
    "duration": 2551,
    "start_time": "2024-11-23T19:15:14.880Z"
   },
   {
    "duration": 16,
    "start_time": "2024-11-23T19:23:24.064Z"
   },
   {
    "duration": 12,
    "start_time": "2024-11-23T19:24:06.629Z"
   },
   {
    "duration": 11,
    "start_time": "2024-11-23T19:24:13.297Z"
   },
   {
    "duration": 11,
    "start_time": "2024-11-23T19:24:31.776Z"
   },
   {
    "duration": 10,
    "start_time": "2024-11-23T19:24:34.843Z"
   },
   {
    "duration": 6,
    "start_time": "2024-11-23T19:41:21.719Z"
   },
   {
    "duration": 4,
    "start_time": "2024-11-23T19:43:12.411Z"
   },
   {
    "duration": 4,
    "start_time": "2024-11-23T19:53:17.364Z"
   },
   {
    "duration": 3,
    "start_time": "2024-11-23T19:53:20.208Z"
   },
   {
    "duration": 10,
    "start_time": "2024-11-23T19:53:33.363Z"
   },
   {
    "duration": 4,
    "start_time": "2024-11-23T19:53:59.062Z"
   },
   {
    "duration": 5,
    "start_time": "2024-11-23T19:54:04.013Z"
   },
   {
    "duration": 8,
    "start_time": "2024-11-23T19:54:06.217Z"
   },
   {
    "duration": 3,
    "start_time": "2024-11-23T19:54:27.249Z"
   },
   {
    "duration": 3,
    "start_time": "2024-11-23T19:54:30.331Z"
   },
   {
    "duration": 8,
    "start_time": "2024-11-23T19:54:32.578Z"
   },
   {
    "duration": 6,
    "start_time": "2024-11-23T19:57:56.437Z"
   },
   {
    "duration": 671,
    "start_time": "2024-11-23T20:05:47.777Z"
   },
   {
    "duration": 171,
    "start_time": "2024-11-23T23:52:36.291Z"
   },
   {
    "duration": 2495,
    "start_time": "2024-11-23T23:52:44.390Z"
   },
   {
    "duration": 15,
    "start_time": "2024-11-23T23:52:46.886Z"
   },
   {
    "duration": 18,
    "start_time": "2024-11-23T23:52:46.902Z"
   },
   {
    "duration": 3,
    "start_time": "2024-11-23T23:52:46.922Z"
   },
   {
    "duration": 9,
    "start_time": "2024-11-23T23:52:46.927Z"
   },
   {
    "duration": 299,
    "start_time": "2024-11-23T23:52:46.938Z"
   },
   {
    "duration": 0,
    "start_time": "2024-11-23T23:52:47.241Z"
   },
   {
    "duration": 15,
    "start_time": "2024-11-23T23:53:14.358Z"
   },
   {
    "duration": 11,
    "start_time": "2024-11-23T23:53:50.270Z"
   },
   {
    "duration": 5,
    "start_time": "2024-11-23T23:55:19.739Z"
   },
   {
    "duration": 160,
    "start_time": "2024-11-23T23:55:29.511Z"
   },
   {
    "duration": 135,
    "start_time": "2024-11-23T23:56:52.005Z"
   },
   {
    "duration": 7,
    "start_time": "2024-11-23T23:57:15.039Z"
   },
   {
    "duration": 7,
    "start_time": "2024-11-23T23:58:32.214Z"
   },
   {
    "duration": 7,
    "start_time": "2024-11-23T23:59:07.291Z"
   },
   {
    "duration": 7,
    "start_time": "2024-11-23T23:59:09.678Z"
   },
   {
    "duration": 6,
    "start_time": "2024-11-23T23:59:44.639Z"
   },
   {
    "duration": 4,
    "start_time": "2024-11-23T23:59:50.495Z"
   },
   {
    "duration": 4,
    "start_time": "2024-11-23T23:59:54.326Z"
   },
   {
    "duration": 42,
    "start_time": "2024-11-24T00:00:04.668Z"
   },
   {
    "duration": 8,
    "start_time": "2024-11-24T00:00:33.488Z"
   },
   {
    "duration": 11,
    "start_time": "2024-11-24T00:00:50.060Z"
   },
   {
    "duration": 6,
    "start_time": "2024-11-24T00:01:12.470Z"
   },
   {
    "duration": 3,
    "start_time": "2024-11-24T00:01:22.229Z"
   },
   {
    "duration": 7,
    "start_time": "2024-11-24T00:01:29.626Z"
   },
   {
    "duration": 966,
    "start_time": "2024-11-24T00:01:36.279Z"
   },
   {
    "duration": 7,
    "start_time": "2024-11-24T00:01:59.120Z"
   },
   {
    "duration": 532,
    "start_time": "2024-11-24T00:02:01.448Z"
   },
   {
    "duration": 6,
    "start_time": "2024-11-24T00:02:21.572Z"
   },
   {
    "duration": 551,
    "start_time": "2024-11-24T00:02:28.758Z"
   },
   {
    "duration": 1024,
    "start_time": "2024-11-24T00:02:45.540Z"
   },
   {
    "duration": 486,
    "start_time": "2024-11-24T00:02:56.745Z"
   },
   {
    "duration": 20,
    "start_time": "2024-11-24T00:04:54.673Z"
   },
   {
    "duration": 16,
    "start_time": "2024-11-24T00:06:06.525Z"
   },
   {
    "duration": 849,
    "start_time": "2024-11-24T00:14:55.407Z"
   },
   {
    "duration": 13,
    "start_time": "2024-11-24T00:14:56.258Z"
   },
   {
    "duration": 10,
    "start_time": "2024-11-24T00:14:56.273Z"
   },
   {
    "duration": 4,
    "start_time": "2024-11-24T00:14:56.285Z"
   },
   {
    "duration": 22,
    "start_time": "2024-11-24T00:14:56.291Z"
   },
   {
    "duration": 169,
    "start_time": "2024-11-24T00:14:56.316Z"
   },
   {
    "duration": 8,
    "start_time": "2024-11-24T00:14:56.487Z"
   },
   {
    "duration": 572,
    "start_time": "2024-11-24T00:14:56.497Z"
   },
   {
    "duration": 16,
    "start_time": "2024-11-24T00:15:42.263Z"
   },
   {
    "duration": 4,
    "start_time": "2024-11-24T00:16:17.777Z"
   },
   {
    "duration": 7,
    "start_time": "2024-11-24T00:16:56.549Z"
   },
   {
    "duration": 5,
    "start_time": "2024-11-24T00:19:18.332Z"
   },
   {
    "duration": 225,
    "start_time": "2024-11-24T00:19:27.721Z"
   },
   {
    "duration": 8,
    "start_time": "2024-11-24T00:19:36.049Z"
   },
   {
    "duration": 7,
    "start_time": "2024-11-24T00:19:57.781Z"
   },
   {
    "duration": 4,
    "start_time": "2024-11-24T00:20:57.750Z"
   },
   {
    "duration": 3,
    "start_time": "2024-11-24T00:21:03.030Z"
   },
   {
    "duration": 3,
    "start_time": "2024-11-24T00:21:10.770Z"
   },
   {
    "duration": 4,
    "start_time": "2024-11-24T00:21:16.716Z"
   },
   {
    "duration": 3,
    "start_time": "2024-11-24T00:21:23.602Z"
   },
   {
    "duration": 4,
    "start_time": "2024-11-24T00:21:51.338Z"
   },
   {
    "duration": 9,
    "start_time": "2024-11-24T00:22:00.218Z"
   },
   {
    "duration": 5,
    "start_time": "2024-11-24T00:23:45.350Z"
   },
   {
    "duration": 10,
    "start_time": "2024-11-24T00:23:51.699Z"
   },
   {
    "duration": 10,
    "start_time": "2024-11-24T00:24:34.544Z"
   },
   {
    "duration": 5,
    "start_time": "2024-11-24T00:28:43.900Z"
   },
   {
    "duration": 17,
    "start_time": "2024-11-24T00:29:33.038Z"
   },
   {
    "duration": 12,
    "start_time": "2024-11-24T00:29:36.060Z"
   },
   {
    "duration": 5,
    "start_time": "2024-11-24T00:30:53.585Z"
   },
   {
    "duration": 14,
    "start_time": "2024-11-24T00:31:21.609Z"
   },
   {
    "duration": 13,
    "start_time": "2024-11-24T00:31:26.769Z"
   },
   {
    "duration": 10,
    "start_time": "2024-11-24T00:31:54.242Z"
   },
   {
    "duration": 10,
    "start_time": "2024-11-24T00:34:00.414Z"
   },
   {
    "duration": 5,
    "start_time": "2024-11-24T00:34:16.317Z"
   },
   {
    "duration": 6,
    "start_time": "2024-11-24T00:34:19.097Z"
   },
   {
    "duration": 6,
    "start_time": "2024-11-24T00:34:20.089Z"
   },
   {
    "duration": 7,
    "start_time": "2024-11-24T00:34:24.122Z"
   },
   {
    "duration": 207,
    "start_time": "2024-11-24T00:45:36.748Z"
   },
   {
    "duration": 4,
    "start_time": "2024-11-24T00:51:15.105Z"
   },
   {
    "duration": 4,
    "start_time": "2024-11-24T00:53:43.519Z"
   },
   {
    "duration": 16,
    "start_time": "2024-11-24T01:06:36.147Z"
   },
   {
    "duration": 17,
    "start_time": "2024-11-24T01:06:56.886Z"
   },
   {
    "duration": 16,
    "start_time": "2024-11-24T01:07:07.385Z"
   },
   {
    "duration": 4,
    "start_time": "2024-11-24T01:07:27.306Z"
   },
   {
    "duration": 3,
    "start_time": "2024-11-24T01:08:14.477Z"
   },
   {
    "duration": 784,
    "start_time": "2024-11-24T01:08:21.717Z"
   },
   {
    "duration": 13,
    "start_time": "2024-11-24T01:08:22.504Z"
   },
   {
    "duration": 10,
    "start_time": "2024-11-24T01:08:22.519Z"
   },
   {
    "duration": 3,
    "start_time": "2024-11-24T01:08:22.530Z"
   },
   {
    "duration": 8,
    "start_time": "2024-11-24T01:08:22.536Z"
   },
   {
    "duration": 175,
    "start_time": "2024-11-24T01:08:22.546Z"
   },
   {
    "duration": 8,
    "start_time": "2024-11-24T01:08:22.724Z"
   },
   {
    "duration": 527,
    "start_time": "2024-11-24T01:08:22.734Z"
   },
   {
    "duration": 17,
    "start_time": "2024-11-24T01:08:23.263Z"
   },
   {
    "duration": 5,
    "start_time": "2024-11-24T01:08:23.281Z"
   },
   {
    "duration": 7,
    "start_time": "2024-11-24T01:08:23.288Z"
   },
   {
    "duration": 13,
    "start_time": "2024-11-24T01:08:23.297Z"
   },
   {
    "duration": 6,
    "start_time": "2024-11-24T01:08:23.311Z"
   },
   {
    "duration": 7,
    "start_time": "2024-11-24T01:08:23.320Z"
   },
   {
    "duration": 267,
    "start_time": "2024-11-24T01:08:23.330Z"
   },
   {
    "duration": 13,
    "start_time": "2024-11-24T01:08:23.599Z"
   },
   {
    "duration": 4,
    "start_time": "2024-11-24T01:08:23.613Z"
   },
   {
    "duration": 510,
    "start_time": "2024-11-24T01:23:10.266Z"
   },
   {
    "duration": 513,
    "start_time": "2024-11-24T01:23:18.898Z"
   },
   {
    "duration": 566,
    "start_time": "2024-11-24T01:23:29.443Z"
   },
   {
    "duration": 4,
    "start_time": "2024-11-24T01:33:10.063Z"
   },
   {
    "duration": 156,
    "start_time": "2024-11-25T22:51:53.442Z"
   },
   {
    "duration": 2486,
    "start_time": "2024-11-25T22:52:03.525Z"
   },
   {
    "duration": 229,
    "start_time": "2024-11-25T22:52:06.013Z"
   },
   {
    "duration": 0,
    "start_time": "2024-11-25T22:52:06.245Z"
   },
   {
    "duration": 0,
    "start_time": "2024-11-25T22:52:06.246Z"
   },
   {
    "duration": 0,
    "start_time": "2024-11-25T22:52:06.247Z"
   },
   {
    "duration": 0,
    "start_time": "2024-11-25T22:52:06.248Z"
   },
   {
    "duration": 0,
    "start_time": "2024-11-25T22:52:06.249Z"
   },
   {
    "duration": 0,
    "start_time": "2024-11-25T22:52:06.250Z"
   },
   {
    "duration": 0,
    "start_time": "2024-11-25T22:52:06.252Z"
   },
   {
    "duration": 0,
    "start_time": "2024-11-25T22:52:06.269Z"
   },
   {
    "duration": 0,
    "start_time": "2024-11-25T22:52:06.270Z"
   },
   {
    "duration": 0,
    "start_time": "2024-11-25T22:52:06.272Z"
   },
   {
    "duration": 0,
    "start_time": "2024-11-25T22:52:06.273Z"
   },
   {
    "duration": 0,
    "start_time": "2024-11-25T22:52:06.274Z"
   },
   {
    "duration": 0,
    "start_time": "2024-11-25T22:52:06.275Z"
   },
   {
    "duration": 0,
    "start_time": "2024-11-25T22:52:06.276Z"
   },
   {
    "duration": 0,
    "start_time": "2024-11-25T22:52:06.278Z"
   },
   {
    "duration": 15,
    "start_time": "2024-11-25T22:52:36.763Z"
   },
   {
    "duration": 12,
    "start_time": "2024-11-25T22:53:15.378Z"
   },
   {
    "duration": 17,
    "start_time": "2024-11-25T22:53:29.129Z"
   },
   {
    "duration": 14,
    "start_time": "2024-11-25T22:55:16.294Z"
   },
   {
    "duration": 768,
    "start_time": "2024-11-25T22:55:24.207Z"
   },
   {
    "duration": 15,
    "start_time": "2024-11-25T22:55:24.977Z"
   },
   {
    "duration": 12,
    "start_time": "2024-11-25T22:55:24.994Z"
   },
   {
    "duration": 3,
    "start_time": "2024-11-25T22:55:25.008Z"
   },
   {
    "duration": 7,
    "start_time": "2024-11-25T22:55:25.015Z"
   },
   {
    "duration": 184,
    "start_time": "2024-11-25T22:55:25.024Z"
   },
   {
    "duration": 8,
    "start_time": "2024-11-25T22:55:25.210Z"
   },
   {
    "duration": 587,
    "start_time": "2024-11-25T22:55:25.219Z"
   },
   {
    "duration": 18,
    "start_time": "2024-11-25T22:55:25.808Z"
   },
   {
    "duration": 5,
    "start_time": "2024-11-25T22:55:25.827Z"
   },
   {
    "duration": 7,
    "start_time": "2024-11-25T22:55:25.834Z"
   },
   {
    "duration": 5,
    "start_time": "2024-11-25T22:55:25.842Z"
   },
   {
    "duration": 5,
    "start_time": "2024-11-25T22:55:25.849Z"
   },
   {
    "duration": 6,
    "start_time": "2024-11-25T22:55:25.870Z"
   },
   {
    "duration": 293,
    "start_time": "2024-11-25T22:55:25.878Z"
   },
   {
    "duration": 5,
    "start_time": "2024-11-25T22:55:26.173Z"
   },
   {
    "duration": 4,
    "start_time": "2024-11-25T22:55:26.180Z"
   },
   {
    "duration": 6,
    "start_time": "2024-11-25T22:57:19.340Z"
   },
   {
    "duration": 257,
    "start_time": "2024-11-25T22:57:21.929Z"
   },
   {
    "duration": 232,
    "start_time": "2024-11-25T22:57:34.227Z"
   },
   {
    "duration": 4,
    "start_time": "2024-11-25T23:02:14.366Z"
   },
   {
    "duration": 5,
    "start_time": "2024-11-25T23:03:41.493Z"
   },
   {
    "duration": 213,
    "start_time": "2024-11-25T23:08:33.097Z"
   },
   {
    "duration": 335,
    "start_time": "2024-11-25T23:08:47.549Z"
   },
   {
    "duration": 400,
    "start_time": "2024-11-25T23:09:14.346Z"
   },
   {
    "duration": 10,
    "start_time": "2024-11-25T23:09:33.711Z"
   },
   {
    "duration": 7,
    "start_time": "2024-11-25T23:09:36.597Z"
   },
   {
    "duration": 135,
    "start_time": "2024-11-25T23:10:39.666Z"
   },
   {
    "duration": 145,
    "start_time": "2024-11-25T23:10:42.401Z"
   },
   {
    "duration": 127,
    "start_time": "2024-11-25T23:10:52.156Z"
   },
   {
    "duration": 5,
    "start_time": "2024-11-25T23:12:32.423Z"
   },
   {
    "duration": 652,
    "start_time": "2024-11-25T23:12:53.004Z"
   },
   {
    "duration": 5,
    "start_time": "2024-11-25T23:20:08.300Z"
   },
   {
    "duration": 6,
    "start_time": "2024-11-25T23:20:15.284Z"
   },
   {
    "duration": 6,
    "start_time": "2024-11-25T23:21:07.122Z"
   },
   {
    "duration": 226,
    "start_time": "2024-11-25T23:21:36.516Z"
   },
   {
    "duration": 58,
    "start_time": "2024-11-25T23:30:56.379Z"
   },
   {
    "duration": 17,
    "start_time": "2024-11-25T23:32:02.509Z"
   },
   {
    "duration": 6,
    "start_time": "2024-11-25T23:33:18.624Z"
   },
   {
    "duration": 204,
    "start_time": "2024-11-25T23:33:22.416Z"
   },
   {
    "duration": 5,
    "start_time": "2024-11-25T23:34:02.434Z"
   },
   {
    "duration": 5,
    "start_time": "2024-11-25T23:34:10.576Z"
   },
   {
    "duration": 6,
    "start_time": "2024-11-25T23:35:55.984Z"
   },
   {
    "duration": 213,
    "start_time": "2024-11-25T23:35:58.162Z"
   },
   {
    "duration": 4,
    "start_time": "2024-11-25T23:41:09.282Z"
   },
   {
    "duration": 4,
    "start_time": "2024-11-25T23:44:52.964Z"
   },
   {
    "duration": 4,
    "start_time": "2024-11-25T23:45:24.523Z"
   }
  ],
  "kernelspec": {
   "display_name": "base",
   "language": "python",
   "name": "python3"
  },
  "language_info": {
   "codemirror_mode": {
    "name": "ipython",
    "version": 3
   },
   "file_extension": ".py",
   "mimetype": "text/x-python",
   "name": "python",
   "nbconvert_exporter": "python",
   "pygments_lexer": "ipython3",
   "version": "3.12.4"
  },
  "toc": {
   "base_numbering": 1,
   "nav_menu": {},
   "number_sections": true,
   "sideBar": true,
   "skip_h1_title": true,
   "title_cell": "Table of Contents",
   "title_sidebar": "Contents",
   "toc_cell": false,
   "toc_position": {},
   "toc_section_display": true,
   "toc_window_display": false
  }
 },
 "nbformat": 4,
 "nbformat_minor": 2
}
